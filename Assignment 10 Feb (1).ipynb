{
 "cells": [
  {
   "cell_type": "code",
   "execution_count": null,
   "id": "389a1a1e-ca75-4ba7-9175-db3a11faca31",
   "metadata": {},
   "outputs": [],
   "source": [
    "Q1- In Python, the built-in function used to open a file is open(). The open() function returns a file object that can be used to read from or write to the file.\n",
    "\n",
    "The different modes of opening a file are:\n",
    "\n",
    "r: This mode is used for reading data from a file. If the file does not exist, an error will be raised.\n",
    "\n",
    "w: This mode is used for writing data to a file. If the file does not exist, a new file will be created. If the file already exists, its contents will be truncated (i.e., overwritten) and replaced with the new data.\n",
    "\n",
    "a: This mode is used for appending data to the end of a file. If the file does not exist, a new file will be created. If the file already exists, the new data will be added to the end of the existing data.\n",
    "\n",
    "x: This mode is used for creating a new file for writing, but it will raise an error if the file already exists.\n",
    "\n",
    "b: This mode is used for opening a file in binary mode, which allows reading and writing of binary data (e.g., images, audio files, etc.) in addition to text data.\n",
    "\n",
    "t: This mode is used for opening a file in text mode (the default mode), which allows reading and writing of text data.\n",
    "\n",
    "+: This mode is used for opening a file for both reading and writing."
   ]
  },
  {
   "cell_type": "code",
   "execution_count": null,
   "id": "c435c9ef-0608-420b-930b-cd783d379ae7",
   "metadata": {},
   "outputs": [],
   "source": [
    "Q2-The close() function is used to close a file after it has been opened using the open() function in Python. It is important to close a file to free up system resources and ensure that any changes made to the file are saved.\n",
    "\n",
    "When a file is opened, the operating system allocates some resources to it, such as memory buffers and file descriptors. These resources are limited, and if too many files are opened and not closed properly, the system may run out of resources, which can cause errors or even crash the program.\n",
    "\n",
    "Additionally, some changes made to a file may not be saved until the file is closed. For example, when writing to a file using the write() method, the data is first written to a memory buffer, and then later flushed to the file when the buffer is full or when the file is closed. If the file is not closed properly, the changes made to the memory buffer may not be saved to the file.\n",
    "\n",
    "Therefore, it is important to close a file after it has been opened to free up system resources and ensure that any changes made to the file are saved. In Python, we can use the close() method of the file object to close a file, as follows:"
   ]
  },
  {
   "cell_type": "code",
   "execution_count": null,
   "id": "285f8d4f-a0da-4f4d-b60f-fcee9729872f",
   "metadata": {},
   "outputs": [],
   "source": [
    "Q3-# open file for writing\n",
    "file = open(\"data_scientist.txt\", \"w\")\n",
    "\n",
    "# write sentence to file\n",
    "file.write(\"I want to become a Data Scientist\")\n",
    "\n",
    "# close file\n",
    "file.close()\n",
    "\n",
    "# open file for reading\n",
    "file = open(\"data_scientist.txt\", \"r\")\n",
    "\n",
    "# read contents of file\n",
    "contents = file.read()\n",
    "\n",
    "# print contents of file\n",
    "print(contents)\n",
    "\n",
    "# close file\n",
    "file.close()"
   ]
  },
  {
   "cell_type": "code",
   "execution_count": 5,
   "id": "630e2829-7c37-48e8-a810-66767b4c17fd",
   "metadata": {},
   "outputs": [
    {
     "ename": "FileNotFoundError",
     "evalue": "[Errno 2] No such file or directory: 'example.txt'",
     "output_type": "error",
     "traceback": [
      "\u001b[0;31m---------------------------------------------------------------------------\u001b[0m",
      "\u001b[0;31mFileNotFoundError\u001b[0m                         Traceback (most recent call last)",
      "Cell \u001b[0;32mIn[5], line 2\u001b[0m\n\u001b[1;32m      1\u001b[0m \u001b[38;5;66;03m#Q4-# open file for reading\u001b[39;00m\n\u001b[0;32m----> 2\u001b[0m file \u001b[38;5;241m=\u001b[39m \u001b[38;5;28;43mopen\u001b[39;49m\u001b[43m(\u001b[49m\u001b[38;5;124;43m\"\u001b[39;49m\u001b[38;5;124;43mexample.txt\u001b[39;49m\u001b[38;5;124;43m\"\u001b[39;49m\u001b[43m,\u001b[49m\u001b[43m \u001b[49m\u001b[38;5;124;43m\"\u001b[39;49m\u001b[38;5;124;43mr\u001b[39;49m\u001b[38;5;124;43m\"\u001b[39;49m\u001b[43m)\u001b[49m\n\u001b[1;32m      4\u001b[0m \u001b[38;5;66;03m# read first line of file\u001b[39;00m\n\u001b[1;32m      5\u001b[0m line1 \u001b[38;5;241m=\u001b[39m file\u001b[38;5;241m.\u001b[39mreadline()\n",
      "File \u001b[0;32m/opt/conda/lib/python3.10/site-packages/IPython/core/interactiveshell.py:282\u001b[0m, in \u001b[0;36m_modified_open\u001b[0;34m(file, *args, **kwargs)\u001b[0m\n\u001b[1;32m    275\u001b[0m \u001b[38;5;28;01mif\u001b[39;00m file \u001b[38;5;129;01min\u001b[39;00m {\u001b[38;5;241m0\u001b[39m, \u001b[38;5;241m1\u001b[39m, \u001b[38;5;241m2\u001b[39m}:\n\u001b[1;32m    276\u001b[0m     \u001b[38;5;28;01mraise\u001b[39;00m \u001b[38;5;167;01mValueError\u001b[39;00m(\n\u001b[1;32m    277\u001b[0m         \u001b[38;5;124mf\u001b[39m\u001b[38;5;124m\"\u001b[39m\u001b[38;5;124mIPython won\u001b[39m\u001b[38;5;124m'\u001b[39m\u001b[38;5;124mt let you open fd=\u001b[39m\u001b[38;5;132;01m{\u001b[39;00mfile\u001b[38;5;132;01m}\u001b[39;00m\u001b[38;5;124m by default \u001b[39m\u001b[38;5;124m\"\u001b[39m\n\u001b[1;32m    278\u001b[0m         \u001b[38;5;124m\"\u001b[39m\u001b[38;5;124mas it is likely to crash IPython. If you know what you are doing, \u001b[39m\u001b[38;5;124m\"\u001b[39m\n\u001b[1;32m    279\u001b[0m         \u001b[38;5;124m\"\u001b[39m\u001b[38;5;124myou can use builtins\u001b[39m\u001b[38;5;124m'\u001b[39m\u001b[38;5;124m open.\u001b[39m\u001b[38;5;124m\"\u001b[39m\n\u001b[1;32m    280\u001b[0m     )\n\u001b[0;32m--> 282\u001b[0m \u001b[38;5;28;01mreturn\u001b[39;00m \u001b[43mio_open\u001b[49m\u001b[43m(\u001b[49m\u001b[43mfile\u001b[49m\u001b[43m,\u001b[49m\u001b[43m \u001b[49m\u001b[38;5;241;43m*\u001b[39;49m\u001b[43margs\u001b[49m\u001b[43m,\u001b[49m\u001b[43m \u001b[49m\u001b[38;5;241;43m*\u001b[39;49m\u001b[38;5;241;43m*\u001b[39;49m\u001b[43mkwargs\u001b[49m\u001b[43m)\u001b[49m\n",
      "\u001b[0;31mFileNotFoundError\u001b[0m: [Errno 2] No such file or directory: 'example.txt'"
     ]
    }
   ],
   "source": [
    "#Q4-# open file for reading-read()\n",
    "\n",
    "file = open(\"example.txt\", \"r\")\n",
    "\n",
    "# read entire file\n",
    "contents = file.read()\n",
    "\n",
    "# print contents of file\n",
    "print(contents)\n",
    "\n",
    "# close file\n",
    "file.close()\n",
    "\n",
    "\n",
    "\n",
    "# open file for reading-readline()\n",
    "file = open(\"example.txt\", \"r\")\n",
    "\n",
    "# read first line of file\n",
    "line1 = file.readline()\n",
    "\n",
    "# print first line of file\n",
    "print(line1)\n",
    "\n",
    "# read second line of file\n",
    "line2 = file.readline()\n",
    "\n",
    "# print second line of file\n",
    "print(line2)\n",
    "\n",
    "# close file\n",
    "file.close()\n",
    "\n",
    "\n",
    "\n",
    "# open file for reading-readlines\n",
    "file = open(\"example.txt\", \"r\")\n",
    "\n",
    "# read all lines of file\n",
    "lines = file.readlines()\n",
    "\n",
    "# print lines of file\n",
    "for line in lines:\n",
    "    print(line)\n",
    "\n",
    "# close file\n",
    "file.close()\n",
    "\n",
    "\n",
    "\n",
    "\n",
    "\n",
    "#\n",
    "\n"
   ]
  },
  {
   "cell_type": "code",
   "execution_count": null,
   "id": "9f60d15e-041b-40d6-81f7-723dcf9a8359",
   "metadata": {},
   "outputs": [],
   "source": [
    "q5-\n",
    "In Python, the with statement is used in conjunction with the open() function to ensure that a file is properly closed after its suite (the indented block of code under the with statement) has finished executing.\n",
    "with open(\"example.txt\", \"r\") as file:\n",
    "    contents = file.read()\n",
    "    print(contents)\n",
    "    \n",
    "    \n",
    "    The advantage of using the with statement and open() function together is that it ensures that the file is closed properly after its suite has finished executing, even if an error occurs. This is important because failing to close a file can lead to data corruption and other issues.\n",
    "\n",
    "By using with statement and open() function together, we don't need to worry about explicitly closing the file, as it will be closed automatically when the with block is exited. Additionally, it makes the code easier to read and write by reducing the amount of code needed to handle file I/O.\n",
    "\n",
    "\n",
    "\n",
    "\n",
    "\n"
   ]
  },
  {
   "cell_type": "code",
   "execution_count": null,
   "id": "6d5c0305-0135-4cbf-80e4-6a73c74cfb49",
   "metadata": {},
   "outputs": [],
   "source": [
    "Q6-\n",
    "The write() function is used to write a single string to a file. It takes a single argument, which is the string to be written to the file. If the file doesn't exist, it will be created. If the file already exists, the write() function will overwrite its contents.\n",
    "with open(\"example.txt\", \"w\") as file:\n",
    "    file.write(\"This is the first line of the file.\\n\")\n",
    "    \n",
    "    \n",
    "The writelines() function is used to write multiple lines to a file. It takes a list of strings as an argument, where each string in the list represents a line to be written to the file.\n",
    "lines = [\"This is the first line of the file.\\n\", \"This is the second line of the file.\\n\"]\n",
    "\n",
    "with open(\"example.txt\", \"w\") as file:\n",
    "    file.writelines(lines)\n"
   ]
  }
 ],
 "metadata": {
  "kernelspec": {
   "display_name": "Python 3 (ipykernel)",
   "language": "python",
   "name": "python3"
  },
  "language_info": {
   "codemirror_mode": {
    "name": "ipython",
    "version": 3
   },
   "file_extension": ".py",
   "mimetype": "text/x-python",
   "name": "python",
   "nbconvert_exporter": "python",
   "pygments_lexer": "ipython3",
   "version": "3.10.8"
  }
 },
 "nbformat": 4,
 "nbformat_minor": 5
}
